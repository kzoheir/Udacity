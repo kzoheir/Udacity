{
 "cells": [
  {
   "cell_type": "markdown",
   "metadata": {},
   "source": [
    "# P5 - Vehicle Detection - Test new function"
   ]
  },
  {
   "cell_type": "markdown",
   "metadata": {},
   "source": [
    "# File sections:\n",
    "* import section\n",
    "* general utilities\n",
    "* load the training data and data exporation\n",
    "* HOG parameters selection by visualization\n",
    "* Spacial parameters selection by visualization\n",
    "* Color Hist parmeters selection"
   ]
  },
  {
   "cell_type": "markdown",
   "metadata": {},
   "source": [
    "## imports for the whole project"
   ]
  },
  {
   "cell_type": "code",
   "execution_count": 236,
   "metadata": {},
   "outputs": [],
   "source": [
    "import numpy as np\n",
    "import cv2\n",
    "import glob\n",
    "import matplotlib.pyplot as plt\n",
    "import pickle\n",
    "import os\n",
    "import matplotlib.image as mpimg\n",
    "from sklearn.preprocessing import StandardScaler\n",
    "from skimage.feature import hog\n",
    "from sklearn.model_selection import train_test_split\n",
    "from random import randint\n",
    "import time\n",
    "from sklearn.svm import LinearSVC\n",
    "\n",
    "%matplotlib inline"
   ]
  },
  {
   "cell_type": "markdown",
   "metadata": {},
   "source": [
    "### imports for the whole project - end"
   ]
  },
  {
   "cell_type": "markdown",
   "metadata": {},
   "source": [
    "## General Utility Functions - not directed related to the project"
   ]
  },
  {
   "cell_type": "code",
   "execution_count": 237,
   "metadata": {},
   "outputs": [],
   "source": [
    "# Read Image\n",
    "def readImage(imageFileName, cFormat='RGB'): # cFormat, BGR, CV, RGB, MATPLOT. BGR and CV are the same. RGB and MATPLOT are the same\n",
    "    img_bgr_cv2 = cv2.imread(imageFileName) # mpimg.imread(img_fname)\n",
    "    if (cFormat == 'BGR' or cFormat == 'CV'):\n",
    "        return img_bgr_cv2\n",
    "    elif (cFormat == 'RGB' or cFormat == 'MATPLOT'):\n",
    "        img_rgb_mtplt = cv2.cvtColor(img_bgr_cv2, cv2.COLOR_BGR2RGB)\n",
    "        return img_rgb_mtplt  # This is the matplot fomrat\n",
    "    return img_bgr_cv2\n",
    "\n",
    "def readImages(dir, pattern = '*[.png][.jpg][.jepg]', cFormat='RGB'):\n",
    "    # read all images with the given patterns (extensions) in the sub-directories\n",
    "    # Example of a pattern: pattern = '*[.png][.jpg]'\n",
    "\n",
    "    \"\"\"\n",
    "    Returns an image list with the image contained on the directory `dir` matching the `pattern`.\n",
    "    pattern\n",
    "    \"\"\"\n",
    "    images = []\n",
    "    for imageFileName in glob.iglob(dir + '**/' + pattern, recursive=True):\n",
    "        images.append(readImage(imageFileName, cFormat))\n",
    "    return images\n",
    "\n",
    "def readImagesFileNames(dir, pattern = '*[.png][.jpg][.jepg]', cFormat='RGB'):\n",
    "    # read all images with the given patterns (extensions) in the sub-directories\n",
    "    # Example of a pattern: pattern = '*[.png][.jpg]'\n",
    "\n",
    "    \"\"\"\n",
    "    Returns 2 lists of image names list. File name and full path name\n",
    "\n",
    "    \"\"\"\n",
    "    imagesFileNames = []\n",
    "    imagesFullFileNames = []\n",
    "    for imageFullFileName in glob.iglob(dir + '**/' + pattern, recursive=True):\n",
    "        imagesFullFileNames.append(imageFullFileName)\n",
    "        imagesFileNames.append(os.path.basename(imageFullFileName))\n",
    "    return imagesFileNames, imagesFullFileNames\n",
    "\n",
    "def display_save_images_single_line(images, folder, titles, figTitel='', figsize=(6, 3), gray=False):\n",
    "    plt.figure(figsize=figsize)\n",
    "    for i in range (len(images)):\n",
    "        plt.subplot(1, len(titles), i+1)\n",
    "        plt.title(titles[i])\n",
    "#        plt.axis('off')\n",
    "        if gray == True:\n",
    "            plt.imshow(images[i], cmap='gray')\n",
    "        else:\n",
    "            plt.imshow(images[i]) # , cmap='binary'\n",
    "        plt.tight_layout(pad=0.50)\n",
    "    plt.tight_layout(pad=0.50)\n",
    "#    plt.xlabel(figTitel) #, fontdict=font)\n",
    "    plt.suptitle(figTitel, fontsize=16)\n",
    "    plt.subplots_adjust(left=0, wspace=0, top=0.8)\n",
    "    if not os.path.exists(folder): #if output dir doesn't exists, create it\n",
    "        os.makedirs(folder)\n",
    "        plt.savefig(os.path.join(folder, figTitel))\n",
    "    plt.show()\n",
    "\n",
    "def display_save_2_images(images, titles, display_flag='TRUE', image_file_full_name='./image.png', file_prefix=\"\", file_suffix=\"\", output_directory='./output_images/'):\n",
    "    if (display_flag == 'TRUE'):\n",
    "        plt.figure(figsize=(6, 3))\n",
    "        plt.subplot(1, 2, 1)\n",
    "        plt.title(titles[0])\n",
    "        plt.axis('off')\n",
    "        plt.imshow(images[0], cmap='binary')\n",
    "        plt.subplot(1, 2, 2)\n",
    "        plt.title(titles[1])\n",
    "        plt.axis('off')\n",
    "        plt.imshow(images[1], cmap='binary')\n",
    "        plt.tight_layout(pad=0.50)\n",
    "        plt.tight_layout(pad=0.50)\n",
    "        plt.suptitle(new_file_name)\n",
    "        base=os.path.basename(image_file_full_name)\n",
    "        (file_name,ext) = os.path.splitext(base)\n",
    "        new_file_name = file_prefix + file_name + file_suffix + ext\n",
    "        image_file_full_name_newdir = os.path.join(output_directory, new_file_name)\n",
    "        print ('Saving: ' , image_file_full_name, new_file_name, image_file_full_name_newdir)\n",
    "        if not os.path.exists(output_directory): #if output dir doesn't exists, create it\n",
    "            os.makedirs(output_directory)\n",
    "        plt.savefig(image_file_full_name_newdir)\n",
    "        plt.show()\n",
    "    return"
   ]
  },
  {
   "cell_type": "markdown",
   "metadata": {},
   "source": [
    "### General Utility Functions - end"
   ]
  },
  {
   "cell_type": "markdown",
   "metadata": {},
   "source": [
    "## Load the training data and data exporation"
   ]
  },
  {
   "cell_type": "markdown",
   "metadata": {},
   "source": [
    "### Read the training images"
   ]
  },
  {
   "cell_type": "code",
   "execution_count": 238,
   "metadata": {},
   "outputs": [
    {
     "name": "stdout",
     "output_type": "stream",
     "text": [
      "Number of Vehicle images = 8791\n",
      "Number of non-Vehicle images = 8968\n"
     ]
    }
   ],
   "source": [
    "vehiclesFN, vehiclesFFN = readImagesFileNames('./training_images/vehicles/vehicles/', '*.png')\n",
    "non_vehiclesFN, non_vehiclesFFN = readImagesFileNames('./training_images/non-vehicles/non-vehicles/', '*.png')\n",
    "print ('Number of Vehicle images = ' + str(len(vehiclesFN)))\n",
    "print ('Number of non-Vehicle images = ' + str(len(non_vehiclesFFN)))"
   ]
  },
  {
   "cell_type": "markdown",
   "metadata": {},
   "source": [
    "## Parameters definition - classes\n",
    "\n",
    "# Value object to hold all feature extraction parameters."
   ]
  },
  {
   "cell_type": "code",
   "execution_count": 239,
   "metadata": {},
   "outputs": [],
   "source": [
    "class HogParameters():\n",
    "    def __init__(self):\n",
    "        # HOG parameters\n",
    "        self.orient = 8\n",
    "        self.pix_per_cell = 8\n",
    "        self.cell_per_block = 2\n",
    "        self.vis= False\n",
    "\n",
    "class FeaturesParameters():\n",
    "    def __init__(self):\n",
    "        # consider different channels from differnet colors\n",
    "        self.combined_channels = [['YCrCb',[0,1,2]]] #,['HLS',[0]] # ['RGB',[0]], ['YCrCb',[0,2]],['HSV',[0]],['LUV',[0,1]]] # 6 channels! instead of 3'RGB' #'YCrCb' [['YCrCb',[0,1,2]]] #\n",
    "        self.color_space = 'YCrCb' #[('RGB',0),('YCrCb',1),('HSV',0),('LUV',1),('LUV',1)] #'RGB' #'YCrCb'\n",
    "        # Bin spatial parameters\n",
    "        self.spatial_size = (16, 16)\n",
    "        # Histogram parameters\n",
    "        self.hist_bins = 32\n",
    "        self.hist_range = (0, 255)\n",
    "        # HOG parameters\n",
    "        self.hog_params=HogParameters()\n",
    "        \n",
    "features_params = FeaturesParameters()"
   ]
  },
  {
   "cell_type": "markdown",
   "metadata": {},
   "source": [
    "### Parameters definition - end"
   ]
  },
  {
   "cell_type": "markdown",
   "metadata": {},
   "source": [
    "## HOG parameters selection - HOG visualization"
   ]
  },
  {
   "cell_type": "markdown",
   "metadata": {},
   "source": [
    "### Note: Original image and color converted image are intentially not shown in order to properly detect the best channel!"
   ]
  },
  {
   "cell_type": "code",
   "execution_count": 240,
   "metadata": {},
   "outputs": [],
   "source": [
    "# Define a function to return HOG features and visualization\n",
    "def color_convert (image, color_space='RGB'):\n",
    "    if color_space != 'RGB':\n",
    "        if color_space == 'HSV':\n",
    "            feature_image = cv2.cvtColor(image, cv2.COLOR_RGB2HSV)\n",
    "        elif color_space == 'LUV':\n",
    "            feature_image = cv2.cvtColor(image, cv2.COLOR_RGB2LUV)\n",
    "        elif color_space == 'HLS':\n",
    "            feature_image = cv2.cvtColor(image, cv2.COLOR_RGB2HLS)\n",
    "        elif color_space == 'YUV':\n",
    "            feature_image = cv2.cvtColor(image, cv2.COLOR_RGB2YUV)\n",
    "        elif color_space == 'YCrCb':\n",
    "            feature_image = cv2.cvtColor(image, cv2.COLOR_RGB2YCrCb)\n",
    "        else:\n",
    "            print(\"Error undefined color sapace: \", color_space)\n",
    "    else: \n",
    "        feature_image = np.copy(image)      \n",
    "    return feature_image\n",
    "\n",
    "def color_convert_combined (image, combined_channels=[['RGB',[0,1,2]]]):\n",
    "    number_of_channels=0\n",
    "    for color_sys in range (len(combined_channels)):\n",
    "        feature_image = color_convert(image, combined_channels[color_sys][0])\n",
    "        for channel in range (len(combined_channels[color_sys][1])):\n",
    "            if number_of_channels==0:\n",
    "                all_ch_img = feature_image[:,:,combined_channels[color_sys][1][channel]]\n",
    "                all_ch_img = np.expand_dims(all_ch_img, axis=2)\n",
    "            else:\n",
    "                chanel = combined_channels[color_sys][1][channel]\n",
    "                chanel_image = feature_image[:,:,combined_channels[color_sys][1][channel]]\n",
    "                all_ch_img = np.insert(all_ch_img,0,chanel_image, axis=2)\n",
    "            number_of_channels+=1\n",
    "    return number_of_channels, all_ch_img\n",
    "\n",
    "def get_hog_channel_features(feature_image, p, feature_vec):\n",
    "    return (hog(feature_image, \n",
    "                            orientations=p.orient, pixels_per_cell=(p.pix_per_cell,p.pix_per_cell), \n",
    "                            cells_per_block=(p.cell_per_block, p.cell_per_block), visualise=False, transform_sqrt=True, feature_vector=feature_vec))\n",
    "\n",
    "def get_hog_features(feature_image, p):\n",
    "    hog_features = []\n",
    "    for channel in range(feature_image.shape[2]):\n",
    "        hog_features.append(get_hog_channel_features(feature_image[:,:,channel], p, feature_vec=True))\n",
    "    hog_features = np.ravel(hog_features)        \n",
    "    return hog_features\n",
    "\n",
    "# Define a function to compute binned color features  \n",
    "def bin_spatial(img, size=(32, 32)):\n",
    "    colors = cv2.resize(img[:,:,img.shape[2]-1], size).ravel()\n",
    "    for channel in range(img.shape[2]-1):\n",
    "        nextColor = cv2.resize(img[:,:,img.shape[2]-channel-2], size).ravel()\n",
    "        colors = np.hstack((colors, nextColor))\n",
    "    return colors\n",
    "\n",
    "# Define a function to compute color histogram features \n",
    "# NEED TO CHANGE bins_range if reading .png files with mpimg!\n",
    "\n",
    "def color_hist(img, nbins=32, bins_range=(0, 256)):\n",
    "    # Compute the histogram of the color channels separately\n",
    "    hists = np.histogram(img[:,:,img.shape[2]-1], bins=nbins)[0]\n",
    "    for channel in range(img.shape[2]-1):\n",
    "            nextHist = np.histogram(img[:,:,img.shape[2]-channel-2], bins=nbins)[0] # , range=bins_range\n",
    "            hists = np.concatenate(([hists, nextHist]))\n",
    "    return hists"
   ]
  },
  {
   "cell_type": "code",
   "execution_count": 241,
   "metadata": {},
   "outputs": [],
   "source": [
    "# Define a function to extract features from a list of images\n",
    "# Have this function call bin_spatial() and color_hist()\n",
    "\n",
    "# Parameters: color_space: \n",
    "# num of orientation bins (how many orientation. Normally 9)\n",
    "# grid of the cells: how many cells in the image \n",
    "#cell size: pixcels / cel\n",
    "# adding overlaps between cells\n",
    "# block normalizarion\n",
    "def extract_features(image, params):\n",
    "\n",
    "    number_of_channels, feature_image = color_convert_combined(image, params.combined_channels)\n",
    "    image_features = []\n",
    "\n",
    "    # Apply bin_spatial() to get spatial color features\n",
    "    spatial_features = bin_spatial(feature_image, size=params.spatial_size)\n",
    "\n",
    "    # Apply color_hist()\n",
    "    hist_features = color_hist(feature_image, nbins=params.hist_bins, bins_range=params.hist_range)\n",
    "\n",
    "    # Apply hog() to get histogram orientation gradient features\n",
    "    hog_features = get_hog_features(feature_image, params.hog_params)\n",
    "    tmp_features = np.concatenate((spatial_features, hist_features, hog_features))\n",
    "    \n",
    "    return tmp_features\n",
    "\n",
    "def extract_features_images(images, params):\n",
    "    # Create a list to append feature vectors to\n",
    "    features = []\n",
    "    for img in images:\n",
    "        imgFeatures = extract_features(img, params)\n",
    "        features.append(imgFeatures)\n",
    "    return features"
   ]
  },
  {
   "cell_type": "code",
   "execution_count": 242,
   "metadata": {},
   "outputs": [],
   "source": [
    "combined_channels = features_params.combined_channels\n",
    "def extract_features_old(imgs, color_space='RGB', spatial_size=(32, 32),\n",
    "                        hist_bins=32, orient=9, \n",
    "                        pix_per_cell=8, cell_per_block=2, hog_channel=0,\n",
    "                        spatial_feat=True, hist_feat=True, hog_feat=True):\n",
    "\n",
    "    # Create a list to append feature vectors to\n",
    "    features = []\n",
    "    # Iterate through the list of images\n",
    "    for image in imgs:\n",
    "        file_features = []\n",
    "        # Read in each one by one\n",
    "        # apply color conversion if other than 'RGB''ALL'\n",
    "        \n",
    "        if color_space != 'RGB':\n",
    "            if color_space == 'HSV':\n",
    "                feature_image = cv2.cvtColor(image, cv2.COLOR_RGB2HSV)\n",
    "            elif color_space == 'LUV':\n",
    "                feature_image = cv2.cvtColor(image, cv2.COLOR_RGB2LUV)\n",
    "            elif color_space == 'HLS':\n",
    "                feature_image = cv2.cvtColor(image, cv2.COLOR_RGB2HLS)\n",
    "            elif color_space == 'YUV':\n",
    "                feature_image = cv2.cvtColor(image, cv2.COLOR_RGB2YUV)\n",
    "            elif color_space == 'YCrCb':\n",
    "                feature_image = cv2.cvtColor(image, cv2.COLOR_RGB2YCrCb)\n",
    "            else:\n",
    "                print(color_space)\n",
    "        else: feature_image = np.copy(image)      \n",
    "\n",
    "        if spatial_feat == True:\n",
    "            spatial_features = bin_spatial_old(feature_image, size=spatial_size)\n",
    "            file_features.append(spatial_features)\n",
    "        if hist_feat == True:\n",
    "            # Apply color_hist()\n",
    "            hist_features = color_hist_old(feature_image, nbins=hist_bins)\n",
    "            file_features.append(hist_features)\n",
    "        if hog_feat == True:\n",
    "        # Call get_hog_features() with vis=False, feature_vec=True\n",
    "            if hog_channel == 'ALL':\n",
    "                \n",
    "                print ('ALL Feautres')\n",
    "                hog_features = []\n",
    "                for channel in range(feature_image.shape[2]):\n",
    "                    hog_features.append(get_hog_features_old(feature_image[:,:,channel], \n",
    "                                        orient, pix_per_cell, cell_per_block, \n",
    "                                        vis=False, feature_vec=True))\n",
    "                hog_features = np.ravel(hog_features)        \n",
    "            else:\n",
    "                hog_features = get_hog_features_old(feature_image[:,:,hog_channel], orient, \n",
    "                            pix_per_cell, cell_per_block, vis=False, feature_vec=True)\n",
    "            # Append the new feature vector to the features list\n",
    "            file_features.append(hog_features)\n",
    "        features.append(np.concatenate(file_features))\n",
    "    # Return list of feature vectors\n",
    "    return features\n",
    " "
   ]
  },
  {
   "cell_type": "code",
   "execution_count": 243,
   "metadata": {},
   "outputs": [],
   "source": [
    "def get_hog_features_old(img, orient, pix_per_cell, cell_per_block, \n",
    "                        vis=False, feature_vec=True):\n",
    "    # Call with two outputs if vis==True\n",
    "    if vis == True:\n",
    "        features, hog_image = hog(img, orientations=orient, \n",
    "                                  pixels_per_cell=(pix_per_cell, pix_per_cell),\n",
    "                                  cells_per_block=(cell_per_block, cell_per_block), \n",
    "                                  transform_sqrt=True, \n",
    "                                  visualise=vis, feature_vector=feature_vec)\n",
    "        return features, hog_image\n",
    "    # Otherwise call with one output\n",
    "    else:      \n",
    "        features = hog(img, orientations=orient, \n",
    "                       pixels_per_cell=(pix_per_cell, pix_per_cell),\n",
    "                       cells_per_block=(cell_per_block, cell_per_block), \n",
    "                       transform_sqrt=True, \n",
    "                       visualise=vis, feature_vector=feature_vec)\n",
    "        return features\n",
    "\n",
    "# def bin_spatial(img, size=(32, 32)):\n",
    "#     # Use cv2.resize().ravel() to create the feature vector\n",
    "#     features = cv2.resize(img, size).ravel() \n",
    "#     # Return the feature vector\n",
    "#     return features\n",
    "def bin_spatial_old(img, size=(32, 32)):\n",
    "    color1 = cv2.resize(img[:,:,0], size).ravel()\n",
    "    color2 = cv2.resize(img[:,:,1], size).ravel()\n",
    "    color3 = cv2.resize(img[:,:,2], size).ravel()\n",
    "    return np.hstack((color1, color2, color3))\n",
    "\n",
    "\n",
    "def color_hist_old(img, nbins=32):    #bins_range=(0, 256)\n",
    "    # Compute the histogram of the color channels separately\n",
    "    channel1_hist = np.histogram(img[:,:,0], bins=nbins)\n",
    "    channel2_hist = np.histogram(img[:,:,1], bins=nbins)\n",
    "    channel3_hist = np.histogram(img[:,:,2], bins=nbins)\n",
    "    # Concatenate the histograms into a single feature vector\n",
    "    hist_features = np.concatenate((channel1_hist[0], channel2_hist[0], channel3_hist[0]))\n",
    "    # Return the individual histograms, bin_centers and feature vector\n",
    "    return hist_features"
   ]
  },
  {
   "cell_type": "code",
   "execution_count": 244,
   "metadata": {
    "scrolled": true
   },
   "outputs": [
    {
     "name": "stdout",
     "output_type": "stream",
     "text": [
      "ALL Feautres\n",
      "ALL Feautres\n",
      "ALL Feautres\n",
      "ALL Feautres\n",
      "ALL Feautres\n",
      "ALL Feautres\n",
      "1 1\n",
      "5568 5568\n",
      "Num of errors:  0\n"
     ]
    },
    {
     "name": "stderr",
     "output_type": "stream",
     "text": [
      "/home/carkyo1080-1/anaconda3/envs/carnd-term1/lib/python3.5/site-packages/skimage/feature/_hog.py:119: skimage_deprecation: Default value of `block_norm`==`L1` is deprecated and will be changed to `L2-Hys` in v0.15\n",
      "  'be changed to `L2-Hys` in v0.15', skimage_deprecation)\n"
     ]
    }
   ],
   "source": [
    "# Test Colors\n",
    "tst_colors=['RGB', 'HSV', 'LUV', 'HLS', 'YUV', 'YCrCb']\n",
    "test_vehicles_num = [7] #, 100, 30, 77, 55]\n",
    "test_vehicles = []\n",
    "\n",
    "for veh_num in test_vehicles_num:\n",
    "    test_vehicles.append(readImage(vehiclesFFN[veh_num], 'RGB'))\n",
    "\n",
    "# [['YCrCb',[0,1]],'HLS',[0]]\n",
    "# ['RGB',[0,1,2]]\n",
    "def test_spacial():\n",
    "    test_features_params = FeaturesParameters()\n",
    "    num_of_errors = 0\n",
    "\n",
    "    for color in tst_colors:\n",
    "        test_features_params.combined_channels = [[color,[0,1,2]]]\n",
    "        test_features_params.color_space = color\n",
    "        features = extract_features_images(test_vehicles, test_features_params)\n",
    "        Oldfeatures = extract_features_old(test_vehicles, test_features_params.color_space, test_features_params.spatial_size, \n",
    "                                           test_features_params.hist_bins, test_features_params.hog_params.orient,\n",
    "                                           test_features_params.hog_params.pix_per_cell, test_features_params.hog_params.cell_per_block,\n",
    "                                           'ALL', True, True, True)\n",
    "    print(len(features), len(Oldfeatures))\n",
    "    print(len(features[0]), len(Oldfeatures[0]))\n",
    "#    print(len(features[1]), len(Oldfeatures[1]))\n",
    "#    print(len(features[2]), len(Oldfeatures[2]))\n",
    "#    print(len(features[3]), len(Oldfeatures[3]))\n",
    "#    print(len(features[4]), len(Oldfeatures[4]))\n",
    "    features[0].sort()\n",
    "    Oldfeatures[0].sort()\n",
    "    for i, j in zip(features[0], Oldfeatures[0]):\n",
    "        if (i!=j):\n",
    "            print (i, \",\", j)\n",
    "            num_of_errors+=1\n",
    "#    print(Oldfeatures[0])\n",
    "#     print(features.shape, Oldfeatures.shape)\n",
    "#     if (features != Oldfeatures):\n",
    "    return num_of_errors\n",
    "\n",
    "print (\"Num of errors: \", test_spacial())"
   ]
  },
  {
   "cell_type": "code",
   "execution_count": null,
   "metadata": {},
   "outputs": [],
   "source": []
  },
  {
   "cell_type": "code",
   "execution_count": null,
   "metadata": {},
   "outputs": [],
   "source": []
  }
 ],
 "metadata": {
  "kernelspec": {
   "display_name": "Python 3",
   "language": "python",
   "name": "python3"
  },
  "language_info": {
   "codemirror_mode": {
    "name": "ipython",
    "version": 3
   },
   "file_extension": ".py",
   "mimetype": "text/x-python",
   "name": "python",
   "nbconvert_exporter": "python",
   "pygments_lexer": "ipython3",
   "version": "3.5.2"
  },
  "widgets": {
   "state": {},
   "version": "1.1.2"
  }
 },
 "nbformat": 4,
 "nbformat_minor": 2
}
