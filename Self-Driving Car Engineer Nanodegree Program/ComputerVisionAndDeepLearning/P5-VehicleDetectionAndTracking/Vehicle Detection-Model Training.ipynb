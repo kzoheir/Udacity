{
 "cells": [
  {
   "cell_type": "markdown",
   "metadata": {},
   "source": [
    "# P5 - Vehicle Detection - Model Training"
   ]
  },
  {
   "cell_type": "markdown",
   "metadata": {},
   "source": [
    "# File sections:\n",
    "* import section\n",
    "* general utilities\n",
    "* load the training data and data exporation\n",
    "* HOG parameters selection by visualization\n",
    "* Spacial parameters selection by visualization\n",
    "* Color Hist parmeters selection"
   ]
  },
  {
   "cell_type": "markdown",
   "metadata": {},
   "source": [
    "## imports for the whole project"
   ]
  },
  {
   "cell_type": "code",
   "execution_count": 1,
   "metadata": {},
   "outputs": [],
   "source": [
    "import numpy as np\n",
    "import cv2\n",
    "import glob\n",
    "import matplotlib.pyplot as plt\n",
    "import pickle\n",
    "import os\n",
    "import matplotlib.image as mpimg\n",
    "from sklearn.preprocessing import StandardScaler\n",
    "from skimage.feature import hog\n",
    "from sklearn.model_selection import train_test_split\n",
    "from random import randint\n",
    "import time\n",
    "from sklearn.svm import LinearSVC\n",
    "from IPython import display\n",
    "import imageio\n",
    "imageio.plugins.ffmpeg.download()\n",
    "from moviepy.editor import VideoFileClip\n",
    "from IPython.display import HTML\n",
    "\n",
    "%matplotlib inline"
   ]
  },
  {
   "cell_type": "markdown",
   "metadata": {},
   "source": [
    "### imports for the whole project - end"
   ]
  },
  {
   "cell_type": "markdown",
   "metadata": {},
   "source": [
    "## General Utility Functions - not directed related to the project"
   ]
  },
  {
   "cell_type": "code",
   "execution_count": 2,
   "metadata": {},
   "outputs": [],
   "source": [
    "# Read Image\n",
    "\n",
    "def readImages(dir, pattern = '*[.png][.jpg][.jepg]', cFormat='RGB'):\n",
    "    # read all images with the given patterns (extensions) in the sub-directories\n",
    "    # Example of a pattern: pattern = '*[.png][.jpg]'\n",
    "\n",
    "    \"\"\"\n",
    "    Returns an image list with the image contained on the directory `dir` matching the `pattern`.\n",
    "    pattern\n",
    "    \"\"\"\n",
    "    images = []\n",
    "    for imageFileName in glob.iglob(dir + '**/' + pattern, recursive=True):\n",
    "        images.append(mpimg.imread(imageFileName))\n",
    "    return images"
   ]
  },
  {
   "cell_type": "markdown",
   "metadata": {},
   "source": [
    "### General Utility Functions - end"
   ]
  },
  {
   "cell_type": "markdown",
   "metadata": {},
   "source": [
    "## Parameters definition - classes\n",
    "\n",
    "# Value object to hold all feature extraction parameters."
   ]
  },
  {
   "cell_type": "code",
   "execution_count": 3,
   "metadata": {},
   "outputs": [],
   "source": [
    "class HogParameters():\n",
    "    def __init__(self):\n",
    "        # HOG parameters\n",
    "        self.orient = 9\n",
    "        self.pix_per_cell = 8\n",
    "        self.cell_per_block = 2\n",
    "        self.vis= False\n",
    "\n",
    "class FeaturesParameters():\n",
    "    def __init__(self):\n",
    "        # consider different channels from differnet colors\n",
    "        self.combined_channels = [['YCrCb',[0,1,2]]] #,['HLS',[0]]] # [['RGB',[0]], ['YCrCb',[0,2]],['HSV',[0]],['LUV',[0,1]]] # 6 channels! instead of 3'RGB' #'YCrCb' [['YCrCb',[0,1,2]]] #\n",
    "        self.color_space = 'YCrCb' #[('RGB',0),('YCrCb',1),('HSV',0),('LUV',1),('LUV',1)] #'RGB' #'YCrCb'\n",
    "        # Bin spatial parameters\n",
    "        self.spatial_size = (32, 32)\n",
    "        # Histogram parameters\n",
    "        self.hist_bins = 32\n",
    "        # HOG parameters\n",
    "        self.hog_params=HogParameters()\n",
    "        \n",
    "class DetectionParameters():\n",
    "    def __init__(self):\n",
    "        self.ystart = 400\n",
    "        self.ystop = 656\n",
    "        self.scale = 1.5\n",
    "\n",
    "Movie_History_length = 8\n"
   ]
  },
  {
   "cell_type": "markdown",
   "metadata": {},
   "source": [
    "### Parameters definition - end"
   ]
  },
  {
   "cell_type": "markdown",
   "metadata": {},
   "source": [
    "## Parameters extraction functions"
   ]
  },
  {
   "cell_type": "markdown",
   "metadata": {},
   "source": [
    "# 3. Pipeline"
   ]
  },
  {
   "cell_type": "markdown",
   "metadata": {},
   "source": [
    "## Features extraction and Model fitting: "
   ]
  },
  {
   "cell_type": "markdown",
   "metadata": {},
   "source": [
    "### Extract Features: Individual features"
   ]
  },
  {
   "cell_type": "code",
   "execution_count": 4,
   "metadata": {},
   "outputs": [],
   "source": [
    "# Define a function to return HOG features and visualization\n",
    "def convert_color(img, conv='RGB2YCrCb'):\n",
    "    if conv == 'RGB2YCrCb':\n",
    "        return cv2.cvtColor(img, cv2.COLOR_RGB2YCrCb)\n",
    "    if conv == 'BGR2YCrCb':\n",
    "        return cv2.cvtColor(img, cv2.COLOR_BGR2YCrCb)\n",
    "    if conv == 'RGB2LUV':\n",
    "        return cv2.cvtColor(img, cv2.COLOR_RGB2LUV)\n",
    "\n",
    "def color_convert (image, color_space='RGB'):\n",
    "    if color_space != 'RGB':\n",
    "        if color_space == 'HSV':\n",
    "            feature_image = cv2.cvtColor(image, cv2.COLOR_RGB2HSV)\n",
    "        elif color_space == 'LUV':\n",
    "            feature_image = cv2.cvtColor(image, cv2.COLOR_RGB2LUV)\n",
    "        elif color_space == 'HLS':\n",
    "            feature_image = cv2.cvtColor(image, cv2.COLOR_RGB2HLS)\n",
    "        elif color_space == 'YUV':\n",
    "            feature_image = cv2.cvtColor(image, cv2.COLOR_RGB2YUV)\n",
    "        elif color_space == 'YCrCb':\n",
    "            feature_image = cv2.cvtColor(image, cv2.COLOR_RGB2YCrCb)\n",
    "        else:\n",
    "            print(\"Error undefined color sapace: \", color_space)\n",
    "    else: \n",
    "        feature_image = np.copy(image)      \n",
    "    return feature_image\n",
    "\n",
    "def color_convert_combined (image, combined_channels=[['RGB',[0,1,2]]]):\n",
    "    number_of_channels=0\n",
    "    for color_sys in range (len(combined_channels)):\n",
    "        feature_image = color_convert(image, combined_channels[color_sys][0])\n",
    "        for channel in range (len(combined_channels[color_sys][1])):\n",
    "            if number_of_channels==0:\n",
    "                all_ch_img = feature_image[:,:,combined_channels[color_sys][1][channel]]\n",
    "                all_ch_img = np.expand_dims(all_ch_img, axis=2)\n",
    "            else:\n",
    "                chanel = combined_channels[color_sys][1][channel]\n",
    "                chanel_image = feature_image[:,:,combined_channels[color_sys][1][channel]]\n",
    "                all_ch_img = np.insert(all_ch_img,0,chanel_image, axis=2)\n",
    "            number_of_channels+=1\n",
    "    return number_of_channels, all_ch_img\n",
    "\n",
    "def get_hog_channel_features(feature_image, p, vis, feature_vec):\n",
    "    return (hog(feature_image, orientations=p.orient, pixels_per_cell=(p.pix_per_cell,p.pix_per_cell),\n",
    "                cells_per_block=(p.cell_per_block, p.cell_per_block), \n",
    "                visualise=vis, transform_sqrt=True, feature_vector=feature_vec))\n",
    "# KZOH: transform_sqrt=True??\n",
    "\n",
    "def get_hog_features(feature_image, p):\n",
    "    hog_features=[]\n",
    "    for channel in range(feature_image.shape[2]):\n",
    "        hog_features.append(get_hog_channel_features(feature_image[:,:,channel], \n",
    "                            p, vis=False, feature_vec=True))\n",
    "    hog_features = np.ravel(hog_features)   \n",
    "    return (hog_features)\n",
    "\n",
    "# Define a function to compute binned color features  \n",
    "def bin_spatial(img, size=(32, 32)):\n",
    "    colors = cv2.resize(img[:,:,img.shape[2]-1], size).ravel()\n",
    "    for channel in range(img.shape[2]-1):\n",
    "        nextColor = cv2.resize(img[:,:,img.shape[2]-channel-2], size).ravel()\n",
    "        colors = np.hstack((colors, nextColor))\n",
    "    return colors\n",
    "\n",
    "# Define a function to compute color histogram features \n",
    "# NEED TO CHANGE bins_range if reading .png files with mpimg!\n",
    "\n",
    "def color_hist(img, nbins=32, bins_range=(0, 256)):\n",
    "    # Compute the histogram of the color channels separately\n",
    "    hists = np.histogram(img[:,:,img.shape[2]-1], bins=nbins)[0]\n",
    "    for channel in range(img.shape[2]-1):\n",
    "            nextHist = np.histogram(img[:,:,img.shape[2]-channel-2], bins=nbins)[0] # , range=bins_range\n",
    "            hists = np.concatenate(([hists, nextHist]))\n",
    "    return hists"
   ]
  },
  {
   "cell_type": "markdown",
   "metadata": {},
   "source": [
    "### Extract Features: Main function"
   ]
  },
  {
   "cell_type": "code",
   "execution_count": 5,
   "metadata": {},
   "outputs": [],
   "source": [
    "# Define a function to extract features from a list of images\n",
    "# Have this function call bin_spatial() and color_hist()\n",
    "\n",
    "# Parameters: color_space: \n",
    "# num of orientation bins (how many orientation. Normally 9)\n",
    "# grid of the cells: how many cells in the image \n",
    "#cell size: pixcels / cel\n",
    "# adding overlaps between cells\n",
    "# block normalizarion\n",
    "def extract_features(image, params):\n",
    "\n",
    "    feature_image = color_convert(image, params.color_space)\n",
    "    image_features = []\n",
    "\n",
    "    # Apply bin_spatial() to get spatial color features\n",
    "    spatial_features = bin_spatial(feature_image, size=params.spatial_size)\n",
    "\n",
    "    # Apply color_hist()\n",
    "    hist_features = color_hist(feature_image, nbins=params.hist_bins)\n",
    "\n",
    "    # Apply hog() to get histogram orientation gradient features\n",
    "    hog_features = get_hog_features(feature_image, params.hog_params)\n",
    "    tmp_features = np.concatenate((spatial_features, hist_features, hog_features))\n",
    "    \n",
    "    return tmp_features\n",
    "\n",
    "def extract_features_images(images, params):\n",
    "    # Create a list to append feature vectors to\n",
    "    features = []\n",
    "    for img in images:\n",
    "        imgFeatures = extract_features(img, params)\n",
    "        features.append(imgFeatures)\n",
    "    return features"
   ]
  },
  {
   "cell_type": "markdown",
   "metadata": {},
   "source": [
    "### Fit Model"
   ]
  },
  {
   "cell_type": "code",
   "execution_count": 6,
   "metadata": {},
   "outputs": [],
   "source": [
    "def fitModelSVC( positive_features, negative_features, params):\n",
    "    \n",
    "    # Create an array stack of feature vectors\n",
    "    X = np.vstack((positive_features, negative_features)).astype(np.float64)\n",
    "\n",
    "    # Define the labels vector\n",
    "    y = np.hstack((np.ones(len(positive_features)), np.zeros(len(negative_features))))\n",
    "\n",
    "    # Split up data into randomized training and test sets\n",
    "    rand_state = np.random.randint(0, 100)\n",
    "    X_train, X_test, y_train, y_test = train_test_split(\n",
    "        X, y, test_size=0.2, random_state=rand_state)\n",
    "\n",
    "    # Fit a per-column scaler\n",
    "    X_scaler = StandardScaler().fit(X_train)\n",
    "    # Apply the scaler to X\n",
    "    X_train = X_scaler.transform(X_train)\n",
    "    X_test = X_scaler.transform(X_test)\n",
    "\n",
    "    # Use a linear SVC \n",
    "    svc = LinearSVC()\n",
    "    # Check the training time for the SVC\n",
    "    t=time.time()\n",
    "    svc.fit(X_train, y_train)\n",
    "    t2 = time.time()\n",
    "    fittingTime = round(t2 - t, 2)\n",
    "    \n",
    "    accuracy = round(svc.score(X_test, y_test),4)\n",
    "    \n",
    "    print('Feature vector length:', len(X_train[0]))\n",
    "    print('Fitting time:', fittingTime)\n",
    "    print('Accuracy: ', accuracy)\n",
    "    return (svc, X_scaler)"
   ]
  },
  {
   "cell_type": "code",
   "execution_count": 7,
   "metadata": {},
   "outputs": [
    {
     "name": "stdout",
     "output_type": "stream",
     "text": [
      "Number of Vehicle images = 8791\n",
      "Number of non-Vehicle images = 8968\n"
     ]
    }
   ],
   "source": [
    "vehicles = readImages('./training_images/vehicles/vehicles/', '*.png')\n",
    "non_vehicles = readImages('./training_images/non-vehicles/non-vehicles/', '*.png')\n",
    "print ('Number of Vehicle images = ' + str(len(vehicles)))\n",
    "print ('Number of non-Vehicle images = ' + str(len(non_vehicles)))"
   ]
  },
  {
   "cell_type": "code",
   "execution_count": 8,
   "metadata": {},
   "outputs": [
    {
     "name": "stdout",
     "output_type": "stream",
     "text": [
      "(64, 64, 3)\n"
     ]
    }
   ],
   "source": [
    "print (vehicles[0].shape)"
   ]
  },
  {
   "cell_type": "code",
   "execution_count": 9,
   "metadata": {},
   "outputs": [
    {
     "name": "stderr",
     "output_type": "stream",
     "text": [
      "/home/carkyo1080-1/anaconda3/envs/carnd-term1/lib/python3.5/site-packages/skimage/feature/_hog.py:119: skimage_deprecation: Default value of `block_norm`==`L1` is deprecated and will be changed to `L2-Hys` in v0.15\n",
      "  'be changed to `L2-Hys` in v0.15', skimage_deprecation)\n"
     ]
    },
    {
     "name": "stdout",
     "output_type": "stream",
     "text": [
      "Feature vector length: 8460\n",
      "Fitting time: 4.0\n",
      "Accuracy:  0.9893\n"
     ]
    }
   ],
   "source": [
    "params = FeaturesParameters()\n",
    "vehicles_features = extract_features_images(vehicles, params)\n",
    "non_vehicles_features = extract_features_images(non_vehicles, params)\n",
    "\n",
    "svc, X_scaler = fitModelSVC(vehicles_features, non_vehicles_features, params)\n",
    "pickle.dump( { 'svc': svc, 'X_scaler': X_scaler }, open('./model.p', 'wb'))"
   ]
  },
  {
   "cell_type": "markdown",
   "metadata": {},
   "source": [
    "### Features extraction and Model fitting: end"
   ]
  },
  {
   "cell_type": "markdown",
   "metadata": {},
   "source": [
    "## Test model on a random image (car and non_car)"
   ]
  },
  {
   "cell_type": "code",
   "execution_count": 36,
   "metadata": {},
   "outputs": [],
   "source": [
    "vehicle_num = randint(0, len(vehicles)-1)\n",
    "non_vehicle_num = randint(0, len(non_vehicles)-1)\n",
    "\n",
    "test_vehicle = vehicles[vehicle_num]\n",
    "test_non_vehicle = non_vehicles[non_vehicle_num]"
   ]
  },
  {
   "cell_type": "code",
   "execution_count": 37,
   "metadata": {},
   "outputs": [],
   "source": [
    "dist_pickle = pickle.load( open( \"./model.p\", \"rb\" ) )\n",
    "svc = dist_pickle[\"svc\"]; \n",
    "X_scaler = dist_pickle[\"X_scaler\"]"
   ]
  },
  {
   "cell_type": "code",
   "execution_count": 38,
   "metadata": {},
   "outputs": [],
   "source": [
    "params = FeaturesParameters()\n",
    "test_vehicle_features = extract_features(test_vehicle, params)\n",
    "test_non_vehicle_features = extract_features(test_non_vehicle, params)\n",
    "\n",
    "vehicle_features = X_scaler.transform(test_vehicle_features.reshape(1, -1))\n",
    "non_vehicle_features = X_scaler.transform(test_non_vehicle_features.reshape(1, -1))"
   ]
  },
  {
   "cell_type": "code",
   "execution_count": 39,
   "metadata": {},
   "outputs": [
    {
     "name": "stdout",
     "output_type": "stream",
     "text": [
      "Vehicle --> Prediction: Vehilce\n",
      "Non-Vehilce --> Prediction: Non-Vehilce\n"
     ]
    }
   ],
   "source": [
    "if (svc.predict(vehicle_features)) == 1:\n",
    "    print ('Vehicle --> Prediction: Vehilce')\n",
    "else:\n",
    "    print('Vehicle --> Prediction: Non-Vehilce')\n",
    "\n",
    "if (svc.predict(non_vehicle_features)) == 1:\n",
    "    print('Non-Vehilce --> Prediction: Vehilce')\n",
    "else:\n",
    "    print('Non-Vehilce --> Prediction: Non-Vehilce')"
   ]
  },
  {
   "cell_type": "code",
   "execution_count": null,
   "metadata": {},
   "outputs": [],
   "source": []
  }
 ],
 "metadata": {
  "kernelspec": {
   "display_name": "Python 3",
   "language": "python",
   "name": "python3"
  },
  "language_info": {
   "codemirror_mode": {
    "name": "ipython",
    "version": 3
   },
   "file_extension": ".py",
   "mimetype": "text/x-python",
   "name": "python",
   "nbconvert_exporter": "python",
   "pygments_lexer": "ipython3",
   "version": "3.5.2"
  },
  "widgets": {
   "state": {},
   "version": "1.1.2"
  }
 },
 "nbformat": 4,
 "nbformat_minor": 2
}
